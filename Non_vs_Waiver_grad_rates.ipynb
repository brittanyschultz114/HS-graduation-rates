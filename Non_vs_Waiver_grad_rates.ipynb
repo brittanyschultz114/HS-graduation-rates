{
 "cells": [
  {
   "cell_type": "code",
   "execution_count": 1,
   "metadata": {},
   "outputs": [],
   "source": [
    "import numpy as np\n",
    "import pandas as pd\n",
    "import matplotlib.pyplot as plt\n",
    "import scipy.stats as st\n",
    "from scipy.stats import linregress"
   ]
  },
  {
   "cell_type": "code",
   "execution_count": 4,
   "metadata": {},
   "outputs": [
    {
     "data": {
      "text/html": [
       "<div>\n",
       "<style scoped>\n",
       "    .dataframe tbody tr th:only-of-type {\n",
       "        vertical-align: middle;\n",
       "    }\n",
       "\n",
       "    .dataframe tbody tr th {\n",
       "        vertical-align: top;\n",
       "    }\n",
       "\n",
       "    .dataframe thead th {\n",
       "        text-align: right;\n",
       "    }\n",
       "</style>\n",
       "<table border=\"1\" class=\"dataframe\">\n",
       "  <thead>\n",
       "    <tr style=\"text-align: right;\">\n",
       "      <th></th>\n",
       "      <th>Corp Id</th>\n",
       "      <th>CORPORATION NAME</th>\n",
       "      <th>Cohort N</th>\n",
       "      <th>Grad N</th>\n",
       "      <th>State Grad Rate</th>\n",
       "      <th>Non-Waiver Grad N</th>\n",
       "      <th>State Non-Waiver Grad Rate</th>\n",
       "    </tr>\n",
       "  </thead>\n",
       "  <tbody>\n",
       "    <tr>\n",
       "      <th>0</th>\n",
       "      <td>15</td>\n",
       "      <td>Adams Central Community Schools</td>\n",
       "      <td>95</td>\n",
       "      <td>90</td>\n",
       "      <td>94.70%</td>\n",
       "      <td>87</td>\n",
       "      <td>91.60%</td>\n",
       "    </tr>\n",
       "    <tr>\n",
       "      <th>1</th>\n",
       "      <td>5265</td>\n",
       "      <td>Alexandria Community School Corporation</td>\n",
       "      <td>112</td>\n",
       "      <td>98</td>\n",
       "      <td>87.50%</td>\n",
       "      <td>97</td>\n",
       "      <td>86.60%</td>\n",
       "    </tr>\n",
       "    <tr>\n",
       "      <th>2</th>\n",
       "      <td>5275</td>\n",
       "      <td>Anderson Community School Corporation</td>\n",
       "      <td>394</td>\n",
       "      <td>353</td>\n",
       "      <td>89.60%</td>\n",
       "      <td>277</td>\n",
       "      <td>70.30%</td>\n",
       "    </tr>\n",
       "    <tr>\n",
       "      <th>3</th>\n",
       "      <td>5470</td>\n",
       "      <td>Argos Community Schools</td>\n",
       "      <td>46</td>\n",
       "      <td>34</td>\n",
       "      <td>73.90%</td>\n",
       "      <td>34</td>\n",
       "      <td>73.90%</td>\n",
       "    </tr>\n",
       "    <tr>\n",
       "      <th>4</th>\n",
       "      <td>2435</td>\n",
       "      <td>Attica Consolidated School Corporation</td>\n",
       "      <td>68</td>\n",
       "      <td>67</td>\n",
       "      <td>98.50%</td>\n",
       "      <td>64</td>\n",
       "      <td>94.10%</td>\n",
       "    </tr>\n",
       "  </tbody>\n",
       "</table>\n",
       "</div>"
      ],
      "text/plain": [
       "   Corp Id                         CORPORATION NAME  Cohort N  Grad N  \\\n",
       "0       15          Adams Central Community Schools        95      90   \n",
       "1     5265  Alexandria Community School Corporation       112      98   \n",
       "2     5275    Anderson Community School Corporation       394     353   \n",
       "3     5470                  Argos Community Schools        46      34   \n",
       "4     2435   Attica Consolidated School Corporation        68      67   \n",
       "\n",
       "  State Grad Rate  Non-Waiver Grad N State Non-Waiver Grad Rate  \n",
       "0          94.70%                 87                     91.60%  \n",
       "1          87.50%                 97                     86.60%  \n",
       "2          89.60%                277                     70.30%  \n",
       "3          73.90%                 34                     73.90%  \n",
       "4          98.50%                 64                     94.10%  "
      ]
     },
     "execution_count": 4,
     "metadata": {},
     "output_type": "execute_result"
    }
   ],
   "source": [
    "grad_rate_15_df = pd.read_csv(\"Resources/2015_grad_rates_revised.csv\")\n",
    "grad_rate_16_df = pd.read_csv(\"Resources/2016_grad_rates_revised.csv\")\n",
    "grad_rate_17_df = pd.read_csv(\"Resources/2017_grad_rates_revised.csv\")\n",
    "grad_rate_18_df = pd.read_csv(\"Resources/2018_grad_rates_revised.csv\")\n",
    "grad_rate_19_df = pd.read_csv(\"Resources/2019_grad_rates_revised.csv\")\n",
    "grad_rate_15_df.head()"
   ]
  },
  {
   "cell_type": "code",
   "execution_count": 5,
   "metadata": {},
   "outputs": [
    {
     "data": {
      "image/png": "[encoded data removed]",
      "text/plain": [
       "<Figure size 432x288 with 1 Axes>"
      ]
     },
     "metadata": {
      "needs_background": "light"
     },
     "output_type": "display_data"
    },
    {
     "name": "stdout",
     "output_type": "stream",
     "text": [
      "The correlation coefficient between poverty rate and graduation rate is0.84\n"
     ]
    }
   ],
   "source": [
    "# 2015 poverty rate vs 2015 graduation rate\n",
    "waiver_grad_15 = grad_rate_15_df[\"State Grad Rate\"].str.replace('%','').astype(np.float64)\n",
    "non_grad_15 = grad_rate_15_df[\"State Non-Waiver Grad Rate\"].str.replace('%','').astype(np.float64)\n",
    "# line regression for 2015 pov rate and grad rate.\n",
    "(slope, intercept, rvalue, pvalue, stderr) = linregress(waiver_grad_15,non_grad_15)\n",
    "regress_values = waiver_grad_15 * slope + intercept\n",
    "line_eq = \"y = \" + str(round(slope,2)) + \"x + \" + str(round(intercept,2))\n",
    "# Plot poverty rate vs. graduation rate.\n",
    "plt.scatter(waiver_grad_15,non_grad_15)\n",
    "plt.plot(waiver_grad_15,regress_values,\"r-\")\n",
    "plt.annotate(line_eq,(60,10),fontsize=15,color=\"red\")\n",
    "plt.show()\n",
    "print(f\"The correlation coefficient between poverty rate and graduation rate is{round(st.pearsonr(waiver_grad_15,non_grad_15)[0],2)}\")\n",
    "      "
   ]
  },
  {
   "cell_type": "code",
   "execution_count": null,
   "metadata": {},
   "outputs": [],
   "source": []
  }
 ],
 "metadata": {
  "kernelspec": {
   "display_name": "Python [conda env:PythonData] *",
   "language": "python",
   "name": "conda-env-PythonData-py"
  },
  "language_info": {
   "codemirror_mode": {
    "name": "ipython",
    "version": 3
   },
   "file_extension": ".py",
   "mimetype": "text/x-python",
   "name": "python",
   "nbconvert_exporter": "python",
   "pygments_lexer": "ipython3",
   "version": "3.6.10"
  }
 },
 "nbformat": 4,
 "nbformat_minor": 4
}

{
 "cells": [
  {
   "cell_type": "markdown",
   "metadata": {},
   "source": [
    "# Indiana School Corporation Grades vs. Graducation Rates "
   ]
  },
  {
   "cell_type": "markdown",
   "metadata": {},
   "source": [
    "This notebook holds code for the final data analysis. I left in my exploration that did not make cut for the presentation, but I commented it out in the code. \n",
    "\n",
    "I started out wanting to visualize the school grade data. I created a multiline graph to see the  number of schools in each letter grade each year. I then made pie charts to visualize further, but the group decided the multiline graph was enough to show that data. I only saved the multiline graph to the output file. Insights gleened from this visualization of the letter grades is that there may have been a change in grading schools from 2015 to 2016. We speculated that was a result of a new state administration elected to lead the education department. If I had another two weeks, I would look into this further. Another insight is that D and F schools do not add up to many schools. That gave me some hope as we continued our analysis.  \n",
    "\n",
    "Then I calulated the average percent change from the reported graduation rate to the non-waiver graduation rate. I wanted to isolate that number for analysis. That data is represented in bar graphs showing each letter grade's average change in grad rate with a graph for each year. I worked on a single grouped bar graph to visualize this data, but I couldn't get that working in time for the presentation. This data was less hopeful for Indiana schools. From 2015 to 2019 the use of graduation waivers went up significantly. That means more students are attending 4 years of high school in Indiana and leaving without meeting the graduation requirments. In a world that requires more and more understanding of S.T.E.M subjects and jobs for unskilled labor are dwindling, this is concerning. \n",
    "\n",
    "Finally, I used an anova analysis to compare average percent change in graduation rates per school letter grade. I expected there it be a statistical difference between how high performing schools and lower performing schools use graduation waivers. There was a satistical difference. I did this analysis on 2015. Out of all of the years obsurved in the data, 2015 data showed the least use of graduation waivers and the least difference between higher performing schools and lower performing schools in that use of waivers. If I did run an anova analysis on the other years we would see even more statistical difference beween the letter grades. For example, the outliers in 2015 showed up to 25% use of graduation waivers. In 2019, the average percent percent change in graudation to non-waiver graduation was over 50%. \n",
    "\n",
    "In conslusion, not all outliers are to be discarted from the data. In the case of schools, the outliers show us were our big problems are. If I was a state leader in eduation, I would be road tripping to talk to school administration, teachers, staff, and students in schools that is graduating more than half their students without them meeting state requriments for graduation. Was there an natural disaster that year? Did the drug addiction rate skyrocket in these locations? This analysis of the graduation waiver program left us with plenty of question for futher exploration.     "
   ]
  },
  {
   "cell_type": "code",
   "execution_count": 1,
   "metadata": {},
   "outputs": [],
   "source": [
    "# Import dependancies\n",
    "import numpy as np\n",
    "import pandas as pd\n",
    "import matplotlib.pyplot as plt\n",
    "%matplotlib inline\n",
    "import scipy.stats as st\n",
    "from scipy.stats import linregress\n",
    "import scipy.stats as stats"
   ]
  },
  {
   "cell_type": "code",
   "execution_count": 2,
   "metadata": {},
   "outputs": [],
   "source": [
    "import warnings\n",
    "warnings.filterwarnings('ignore')"
   ]
  },
  {
   "cell_type": "code",
   "execution_count": 3,
   "metadata": {
    "scrolled": true
   },
   "outputs": [
    {
     "data": {
      "text/html": [
       "<div>\n",
       "<style scoped>\n",
       "    .dataframe tbody tr th:only-of-type {\n",
       "        vertical-align: middle;\n",
       "    }\n",
       "\n",
       "    .dataframe tbody tr th {\n",
       "        vertical-align: top;\n",
       "    }\n",
       "\n",
       "    .dataframe thead th {\n",
       "        text-align: right;\n",
       "    }\n",
       "</style>\n",
       "<table border=\"1\" class=\"dataframe\">\n",
       "  <thead>\n",
       "    <tr style=\"text-align: right;\">\n",
       "      <th></th>\n",
       "      <th>Corp ID</th>\n",
       "      <th>Corporate Name</th>\n",
       "      <th>Corp Grade 2015</th>\n",
       "    </tr>\n",
       "  </thead>\n",
       "  <tbody>\n",
       "    <tr>\n",
       "      <th>0</th>\n",
       "      <td>15</td>\n",
       "      <td>Adams Central Community Schools</td>\n",
       "      <td>C</td>\n",
       "    </tr>\n",
       "    <tr>\n",
       "      <th>1</th>\n",
       "      <td>5265</td>\n",
       "      <td>Alexandria Community School Corporation</td>\n",
       "      <td>C</td>\n",
       "    </tr>\n",
       "    <tr>\n",
       "      <th>2</th>\n",
       "      <td>5275</td>\n",
       "      <td>Anderson Community School Corporation</td>\n",
       "      <td>D</td>\n",
       "    </tr>\n",
       "    <tr>\n",
       "      <th>3</th>\n",
       "      <td>5470</td>\n",
       "      <td>Argos Community Schools</td>\n",
       "      <td>B</td>\n",
       "    </tr>\n",
       "    <tr>\n",
       "      <th>4</th>\n",
       "      <td>2435</td>\n",
       "      <td>Attica Consolidated School Corporation</td>\n",
       "      <td>D</td>\n",
       "    </tr>\n",
       "  </tbody>\n",
       "</table>\n",
       "</div>"
      ],
      "text/plain": [
       "   Corp ID                           Corporate Name Corp Grade 2015\n",
       "0       15          Adams Central Community Schools               C\n",
       "1     5265  Alexandria Community School Corporation               C\n",
       "2     5275    Anderson Community School Corporation               D\n",
       "3     5470                  Argos Community Schools               B\n",
       "4     2435   Attica Consolidated School Corporation               D"
      ]
     },
     "execution_count": 3,
     "metadata": {},
     "output_type": "execute_result"
    }
   ],
   "source": [
    "# Read in school grade files for each year\n",
    "schoolgrade2015 = pd.read_csv('Resources/schoolgrade2015_revised.csv')\n",
    "schoolgrade2016 = pd.read_csv('Resources/schoolgrade2016_revised.csv')\n",
    "schoolgrade2017 = pd.read_csv('Resources/schoolgrade2017_revised.csv')\n",
    "schoolgrade2018 = pd.read_csv('Resources/schoolgrade2018_revised.csv')\n",
    "schoolgrade2019 = pd.read_csv('Resources/schoolgrade2019_revised.csv')\n",
    "schoolgrade2015.head()"
   ]
  },
  {
   "cell_type": "markdown",
   "metadata": {},
   "source": [
    "## Visualize the portion of schools in each letter grade over time.  "
   ]
  },
  {
   "cell_type": "code",
   "execution_count": 4,
   "metadata": {
    "scrolled": true
   },
   "outputs": [
    {
     "data": {
      "text/plain": [
       "C    103\n",
       "D     85\n",
       "B     38\n",
       "A     31\n",
       "F     11\n",
       "Name: Corp Grade 2015, dtype: int64"
      ]
     },
     "execution_count": 4,
     "metadata": {},
     "output_type": "execute_result"
    }
   ],
   "source": [
    "# 2015 School corp letter grade data looks good.\n",
    "gradecount2015 = schoolgrade2015['Corp Grade 2015'].value_counts()\n",
    "gradecount2015"
   ]
  },
  {
   "cell_type": "code",
   "execution_count": 5,
   "metadata": {},
   "outputs": [
    {
     "data": {
      "text/plain": [
       "B    166\n",
       "C     75\n",
       "A     21\n",
       "D      5\n",
       "F      1\n",
       "Name: Corp Grade 2016, dtype: int64"
      ]
     },
     "execution_count": 5,
     "metadata": {},
     "output_type": "execute_result"
    }
   ],
   "source": [
    "# 2016 School corp letter grade data looks good.\n",
    "gradecount2016 = schoolgrade2016['Corp Grade 2016'].value_counts()\n",
    "gradecount2016"
   ]
  },
  {
   "cell_type": "code",
   "execution_count": 6,
   "metadata": {
    "scrolled": false
   },
   "outputs": [
    {
     "data": {
      "text/plain": [
       "B    149\n",
       "C     64\n",
       "A     46\n",
       "D      7\n",
       "F      1\n",
       "Name: Corp Grade 2017, dtype: int64"
      ]
     },
     "execution_count": 6,
     "metadata": {},
     "output_type": "execute_result"
    }
   ],
   "source": [
    "# 2017: need to make \"Appeal Pending\" data null\n",
    "schoolgrade2017['Corp Grade 2017'].value_counts()\n",
    "\n",
    "# Marking \"Appeal Pending\" data null worked!!!\n",
    "schoolgrade2017.loc[schoolgrade2017['Corp Grade 2017'] == 'Appeal Pending', :] = np.nan\n",
    "gradecount2017 = schoolgrade2017['Corp Grade 2017'].value_counts()\n",
    "gradecount2017"
   ]
  },
  {
   "cell_type": "code",
   "execution_count": 7,
   "metadata": {
    "scrolled": false
   },
   "outputs": [
    {
     "data": {
      "text/plain": [
       "B    143\n",
       "C     62\n",
       "A     44\n",
       "D      3\n",
       "F      1\n",
       "Name: Corp Grade 2018, dtype: int64"
      ]
     },
     "execution_count": 7,
     "metadata": {},
     "output_type": "execute_result"
    }
   ],
   "source": [
    "# 2018: need to make \"Appeal Pending\" data null\n",
    "schoolgrade2018['Corp Grade 2018'].value_counts()\n",
    "\n",
    "# Marking \"Appeal Pending\" data null worked!!!\n",
    "schoolgrade2018.loc[schoolgrade2018['Corp Grade 2018'] == 'Appeal Pending', :] = np.nan\n",
    "gradecount2018 = schoolgrade2018['Corp Grade 2018'].value_counts()\n",
    "gradecount2018"
   ]
  },
  {
   "cell_type": "code",
   "execution_count": 8,
   "metadata": {
    "scrolled": false
   },
   "outputs": [
    {
     "data": {
      "text/plain": [
       "B    149\n",
       "C     62\n",
       "A     45\n",
       "D      2\n",
       "F      2\n",
       "Name: Corp Grade 2019, dtype: int64"
      ]
     },
     "execution_count": 8,
     "metadata": {},
     "output_type": "execute_result"
    }
   ],
   "source": [
    "# 2019: need to make \"Appeal Pending\" AND \"No Grade\" data null\n",
    "schoolgrade2019['Corp Grade 2019'].value_counts()\n",
    "\n",
    "# Marking \"Appeal Pending\" and \"No Grade\" data null worked!!!\n",
    "schoolgrade2019.loc[schoolgrade2019['Corp Grade 2019'] == 'Appeal Pending', :] = np.nan\n",
    "schoolgrade2019.loc[schoolgrade2019['Corp Grade 2019'] == 'No Grade', :] = np.nan\n",
    "\n",
    "gradecount2019 = schoolgrade2019['Corp Grade 2019'].value_counts()\n",
    "gradecount2019"
   ]
  },
  {
   "cell_type": "code",
   "execution_count": 9,
   "metadata": {},
   "outputs": [
    {
     "data": {
      "text/html": [
       "<div>\n",
       "<style scoped>\n",
       "    .dataframe tbody tr th:only-of-type {\n",
       "        vertical-align: middle;\n",
       "    }\n",
       "\n",
       "    .dataframe tbody tr th {\n",
       "        vertical-align: top;\n",
       "    }\n",
       "\n",
       "    .dataframe thead th {\n",
       "        text-align: right;\n",
       "    }\n",
       "</style>\n",
       "<table border=\"1\" class=\"dataframe\">\n",
       "  <thead>\n",
       "    <tr style=\"text-align: right;\">\n",
       "      <th></th>\n",
       "      <th>School Grade</th>\n",
       "      <th>2015</th>\n",
       "      <th>2016</th>\n",
       "      <th>2017</th>\n",
       "      <th>2018</th>\n",
       "      <th>2019</th>\n",
       "    </tr>\n",
       "  </thead>\n",
       "  <tbody>\n",
       "    <tr>\n",
       "      <th>0</th>\n",
       "      <td>A</td>\n",
       "      <td>31</td>\n",
       "      <td>21</td>\n",
       "      <td>46</td>\n",
       "      <td>44</td>\n",
       "      <td>45</td>\n",
       "    </tr>\n",
       "    <tr>\n",
       "      <th>1</th>\n",
       "      <td>B</td>\n",
       "      <td>38</td>\n",
       "      <td>166</td>\n",
       "      <td>149</td>\n",
       "      <td>143</td>\n",
       "      <td>149</td>\n",
       "    </tr>\n",
       "    <tr>\n",
       "      <th>2</th>\n",
       "      <td>C</td>\n",
       "      <td>103</td>\n",
       "      <td>75</td>\n",
       "      <td>64</td>\n",
       "      <td>62</td>\n",
       "      <td>62</td>\n",
       "    </tr>\n",
       "    <tr>\n",
       "      <th>3</th>\n",
       "      <td>D</td>\n",
       "      <td>85</td>\n",
       "      <td>5</td>\n",
       "      <td>7</td>\n",
       "      <td>3</td>\n",
       "      <td>2</td>\n",
       "    </tr>\n",
       "    <tr>\n",
       "      <th>4</th>\n",
       "      <td>F</td>\n",
       "      <td>11</td>\n",
       "      <td>1</td>\n",
       "      <td>1</td>\n",
       "      <td>1</td>\n",
       "      <td>2</td>\n",
       "    </tr>\n",
       "  </tbody>\n",
       "</table>\n",
       "</div>"
      ],
      "text/plain": [
       "  School Grade  2015  2016  2017  2018  2019\n",
       "0            A    31    21    46    44    45\n",
       "1            B    38   166   149   143   149\n",
       "2            C   103    75    64    62    62\n",
       "3            D    85     5     7     3     2\n",
       "4            F    11     1     1     1     2"
      ]
     },
     "execution_count": 9,
     "metadata": {},
     "output_type": "execute_result"
    }
   ],
   "source": [
    "multilinegraph = {'School Grade': ['A', 'B', 'C', 'D', 'F'],  \n",
    "                  '2015': [31, 38, 103, 85, 11],\n",
    "                  '2016': [21, 166, 75, 5, 1],\n",
    "                  '2017': [46, 149, 64, 7, 1],\n",
    "                  '2018': [44, 143, 62, 3, 1],\n",
    "                  '2019': [45, 149, 62, 2, 2]\n",
    "                 }\n",
    "df = pd.DataFrame(data=multilinegraph)\n",
    "df"
   ]
  },
  {
   "cell_type": "code",
   "execution_count": 10,
   "metadata": {},
   "outputs": [
    {
     "data": {
      "text/html": [
       "<div>\n",
       "<style scoped>\n",
       "    .dataframe tbody tr th:only-of-type {\n",
       "        vertical-align: middle;\n",
       "    }\n",
       "\n",
       "    .dataframe tbody tr th {\n",
       "        vertical-align: top;\n",
       "    }\n",
       "\n",
       "    .dataframe thead th {\n",
       "        text-align: right;\n",
       "    }\n",
       "</style>\n",
       "<table border=\"1\" class=\"dataframe\">\n",
       "  <thead>\n",
       "    <tr style=\"text-align: right;\">\n",
       "      <th></th>\n",
       "      <th>0</th>\n",
       "      <th>1</th>\n",
       "      <th>2</th>\n",
       "      <th>3</th>\n",
       "      <th>4</th>\n",
       "    </tr>\n",
       "  </thead>\n",
       "  <tbody>\n",
       "    <tr>\n",
       "      <th>School Grade</th>\n",
       "      <td>A</td>\n",
       "      <td>B</td>\n",
       "      <td>C</td>\n",
       "      <td>D</td>\n",
       "      <td>F</td>\n",
       "    </tr>\n",
       "    <tr>\n",
       "      <th>2015</th>\n",
       "      <td>31</td>\n",
       "      <td>38</td>\n",
       "      <td>103</td>\n",
       "      <td>85</td>\n",
       "      <td>11</td>\n",
       "    </tr>\n",
       "    <tr>\n",
       "      <th>2016</th>\n",
       "      <td>21</td>\n",
       "      <td>166</td>\n",
       "      <td>75</td>\n",
       "      <td>5</td>\n",
       "      <td>1</td>\n",
       "    </tr>\n",
       "    <tr>\n",
       "      <th>2017</th>\n",
       "      <td>46</td>\n",
       "      <td>149</td>\n",
       "      <td>64</td>\n",
       "      <td>7</td>\n",
       "      <td>1</td>\n",
       "    </tr>\n",
       "    <tr>\n",
       "      <th>2018</th>\n",
       "      <td>44</td>\n",
       "      <td>143</td>\n",
       "      <td>62</td>\n",
       "      <td>3</td>\n",
       "      <td>1</td>\n",
       "    </tr>\n",
       "    <tr>\n",
       "      <th>2019</th>\n",
       "      <td>45</td>\n",
       "      <td>149</td>\n",
       "      <td>62</td>\n",
       "      <td>2</td>\n",
       "      <td>2</td>\n",
       "    </tr>\n",
       "  </tbody>\n",
       "</table>\n",
       "</div>"
      ],
      "text/plain": [
       "               0    1    2   3   4\n",
       "School Grade   A    B    C   D   F\n",
       "2015          31   38  103  85  11\n",
       "2016          21  166   75   5   1\n",
       "2017          46  149   64   7   1\n",
       "2018          44  143   62   3   1\n",
       "2019          45  149   62   2   2"
      ]
     },
     "execution_count": 10,
     "metadata": {},
     "output_type": "execute_result"
    }
   ],
   "source": [
    "df_transposed = df.T\n",
    "df_transposed"
   ]
  },
  {
   "cell_type": "code",
   "execution_count": 11,
   "metadata": {},
   "outputs": [
    {
     "data": {
      "text/html": [
       "<div>\n",
       "<style scoped>\n",
       "    .dataframe tbody tr th:only-of-type {\n",
       "        vertical-align: middle;\n",
       "    }\n",
       "\n",
       "    .dataframe tbody tr th {\n",
       "        vertical-align: top;\n",
       "    }\n",
       "\n",
       "    .dataframe thead th {\n",
       "        text-align: right;\n",
       "    }\n",
       "</style>\n",
       "<table border=\"1\" class=\"dataframe\">\n",
       "  <thead>\n",
       "    <tr style=\"text-align: right;\">\n",
       "      <th></th>\n",
       "      <th>A</th>\n",
       "      <th>B</th>\n",
       "      <th>C</th>\n",
       "      <th>D</th>\n",
       "      <th>F</th>\n",
       "    </tr>\n",
       "  </thead>\n",
       "  <tbody>\n",
       "    <tr>\n",
       "      <th>2015</th>\n",
       "      <td>31</td>\n",
       "      <td>38</td>\n",
       "      <td>103</td>\n",
       "      <td>85</td>\n",
       "      <td>11</td>\n",
       "    </tr>\n",
       "    <tr>\n",
       "      <th>2016</th>\n",
       "      <td>21</td>\n",
       "      <td>166</td>\n",
       "      <td>75</td>\n",
       "      <td>5</td>\n",
       "      <td>1</td>\n",
       "    </tr>\n",
       "    <tr>\n",
       "      <th>2017</th>\n",
       "      <td>46</td>\n",
       "      <td>149</td>\n",
       "      <td>64</td>\n",
       "      <td>7</td>\n",
       "      <td>1</td>\n",
       "    </tr>\n",
       "    <tr>\n",
       "      <th>2018</th>\n",
       "      <td>44</td>\n",
       "      <td>143</td>\n",
       "      <td>62</td>\n",
       "      <td>3</td>\n",
       "      <td>1</td>\n",
       "    </tr>\n",
       "    <tr>\n",
       "      <th>2019</th>\n",
       "      <td>45</td>\n",
       "      <td>149</td>\n",
       "      <td>62</td>\n",
       "      <td>2</td>\n",
       "      <td>2</td>\n",
       "    </tr>\n",
       "  </tbody>\n",
       "</table>\n",
       "</div>"
      ],
      "text/plain": [
       "       A    B    C   D   F\n",
       "2015  31   38  103  85  11\n",
       "2016  21  166   75   5   1\n",
       "2017  46  149   64   7   1\n",
       "2018  44  143   62   3   1\n",
       "2019  45  149   62   2   2"
      ]
     },
     "execution_count": 11,
     "metadata": {},
     "output_type": "execute_result"
    }
   ],
   "source": [
    "df_transposed1 = df_transposed.rename(columns={0: \"A\", 1: \"B\", 2: \"C\", 3: \"D\", 4: \"F\"})\n",
    "df_transposed2 = df_transposed1.drop(['School Grade'])\n",
    "df_transposed2"
   ]
  },
  {
   "cell_type": "code",
   "execution_count": 12,
   "metadata": {},
   "outputs": [
    {
     "data": {
      "image/png": "[encoded data removed]",
      "text/plain": [
       "<Figure size 432x288 with 1 Axes>"
      ]
     },
     "metadata": {
      "needs_background": "light"
     },
     "output_type": "display_data"
    }
   ],
   "source": [
    "# Show school grade over years in Multi line graph\n",
    "#grades = ['A', 'B', 'C', 'D', 'F']\n",
    "years = ['2015', '2016', '2017', '2018', '2019']\n",
    "\n",
    "# Plot school corp grade count for each year\n",
    "plt.plot(years, df_transposed2['A'], color=\"green\", label=\"A\" )\n",
    "\n",
    "plt.plot(years, df_transposed2['B'], color=\"blue\", label=\"B\" )\n",
    "\n",
    "plt.plot(years, df_transposed2['C'], color=\"purple\", label=\"C\" )\n",
    "\n",
    "plt.plot(years, df_transposed2['D'], color=\"orange\", label=\"D\" )\n",
    "\n",
    "plt.plot(years, df_transposed2['F'], color=\"red\", label=\"F\" )\n",
    "\n",
    "# Create a legend for our chart\n",
    "plt.legend()\n",
    "\n",
    "plt.title(\"Number of Schools per Letter Grade per Year\", fontsize=16, fontweight='bold')\n",
    "plt.xlabel(\"Years\")\n",
    "plt.ylabel(\"Number of Schools\")\n",
    "\n",
    "plt.savefig(\"Output_Data/schoolgradecount.png\") \n",
    "# Show the chart\n",
    "plt.show()"
   ]
  },
  {
   "cell_type": "code",
   "execution_count": 13,
   "metadata": {
    "scrolled": true
   },
   "outputs": [],
   "source": [
    "# Pie Chart of School Corp Grade Percentages 2015\n",
    "\n",
    "# = [\"yellowgreen\", \"red\", \"lightcoral\", \"lightskyblue\", \"gold\"]\n",
    "#explode = (0, 0.05, 0, 0)\n",
    "#labels = ['A', 'B', 'C', 'D', 'F']\n",
    "\n",
    "\n",
    "#plt.title(\"School Corp Grade Percentatges 2015\")\n",
    "#plt.pie(gradecount2015, labels=labels, colors=colors,\n",
    "#        autopct=\"%1.1f%%\", shadow=True, startangle=90)\n",
    "#plt.axis(\"equal\")\n",
    "#plt.show()"
   ]
  },
  {
   "cell_type": "code",
   "execution_count": 14,
   "metadata": {},
   "outputs": [],
   "source": [
    "# Pie Chart of School Corp Grade Percentages 2016\n",
    "#colors = [\"yellowgreen\", \"red\", \"lightcoral\", \"lightskyblue\", \"gold\"]\n",
    "#explode = (0, 0.05, 0, 0)\n",
    "#labels = ['A', 'B', 'C', 'D', 'F']\n",
    "\n",
    "#plt.title(\"School Corp Grade Percentatges 2016\")\n",
    "#plt.pie(gradecount2016, labels=labels, colors=colors,\n",
    " #       autopct=\"%1.1f%%\", shadow=True, startangle=90)\n",
    "#plt.axis(\"equal\")\n",
    "#plt.show()"
   ]
  },
  {
   "cell_type": "code",
   "execution_count": 15,
   "metadata": {},
   "outputs": [],
   "source": [
    "# Pie Chart of School Corp Grade Percentages 2017\n",
    "#colors = [\"yellowgreen\", \"red\", \"lightcoral\", \"lightskyblue\", \"gold\"]\n",
    "#explode = (0, 0.05, 0, 0)\n",
    "#labels = ['A', 'B', 'C', 'D', 'F']\n",
    "\n",
    "#plt.title(\"School Corp Grade Percentatges 2017\")\n",
    "#plt.pie(gradecount2017, labels=labels, colors=colors,\n",
    "#        autopct=\"%1.1f%%\", shadow=True, startangle=90)\n",
    "#plt.axis(\"equal\")\n",
    "#plt.show()"
   ]
  },
  {
   "cell_type": "code",
   "execution_count": 16,
   "metadata": {},
   "outputs": [],
   "source": [
    "# Pie Chart of School Corp Grade Percentages 2018\n",
    "#colors = [\"yellowgreen\", \"red\", \"lightcoral\", \"lightskyblue\", \"gold\"]\n",
    "#explode = (0, 0.05, 0, 0)\n",
    "# labels = ['A', 'B', 'C', 'D', 'F']\n",
    "\n",
    "# plt.title(\"School Corp Grade Percentatges 2018\")\n",
    "# plt.pie(gradecount2018, labels=labels, colors=colors,\n",
    "#         autopct=\"%1.1f%%\", shadow=True, startangle=90)\n",
    "# plt.axis(\"equal\")\n",
    "# plt.show()"
   ]
  },
  {
   "cell_type": "code",
   "execution_count": 17,
   "metadata": {},
   "outputs": [],
   "source": [
    "# # Pie Chart of School Corp Grade Percentages 2019\n",
    "# colors = [\"yellowgreen\", \"red\", \"lightcoral\", \"lightskyblue\", \"gold\"]\n",
    "# explode = (0, 0.05, 0, 0)\n",
    "# labels = ['A', 'B', 'C', 'D', 'F']\n",
    "\n",
    "# plt.title(\"School Corp Grade Percentatges 2019\")\n",
    "# plt.pie(gradecount2019, labels=labels, colors=colors,\n",
    "#         autopct=\"%1.1f%%\", shadow=True, startangle=90)\n",
    "# plt.axis(\"equal\")\n",
    "# plt.show()"
   ]
  },
  {
   "cell_type": "code",
   "execution_count": 18,
   "metadata": {
    "scrolled": true
   },
   "outputs": [],
   "source": [
    "#gradecount1 = pd.merge(schoolgrade2015, schoolgrade2016, on=\"Corporate Name\")\n",
    "#gradecount1.head()"
   ]
  },
  {
   "cell_type": "code",
   "execution_count": 19,
   "metadata": {},
   "outputs": [],
   "source": [
    "#gradecount2 = gradecount1.drop(['Corp ID_y'], axis=1)\n",
    "#gradecount2.head()"
   ]
  },
  {
   "cell_type": "code",
   "execution_count": 20,
   "metadata": {},
   "outputs": [],
   "source": [
    "#gradecount3 = pd.merge(gradecount2, schoolgrade2017, on=\"Corporate Name\")\n",
    "#gradecount3.head()"
   ]
  },
  {
   "cell_type": "code",
   "execution_count": 21,
   "metadata": {
    "scrolled": true
   },
   "outputs": [],
   "source": [
    "#gradecount4 = gradecount3.drop(['Corp ID'], axis=1)\n",
    "#gradecount4.head()"
   ]
  },
  {
   "cell_type": "code",
   "execution_count": 22,
   "metadata": {},
   "outputs": [],
   "source": [
    "#gradecount5 = pd.merge(gradecount4, schoolgrade2018, on=\"Corporate Name\")\n",
    "#gradecount5.head()"
   ]
  },
  {
   "cell_type": "code",
   "execution_count": 23,
   "metadata": {},
   "outputs": [],
   "source": [
    "#gradecount6 = gradecount5.drop(['Corp ID'], axis=1)\n",
    "#gradecount6.head()"
   ]
  },
  {
   "cell_type": "code",
   "execution_count": 24,
   "metadata": {},
   "outputs": [],
   "source": [
    "#gradecount7 = pd.merge(gradecount6, schoolgrade2019, on=\"Corporate Name\")\n",
    "#gradecount7.head()"
   ]
  },
  {
   "cell_type": "code",
   "execution_count": 25,
   "metadata": {},
   "outputs": [],
   "source": [
    "#gradecount8 = gradecount7.drop(['Corp ID'], axis=1)\n",
    "#gradecount8.head()"
   ]
  },
  {
   "cell_type": "code",
   "execution_count": 26,
   "metadata": {},
   "outputs": [],
   "source": [
    "#gradecount9 = gradecount8.drop(['Corp ID_x'], axis=1)\n",
    "#gradecount9.head()"
   ]
  },
  {
   "cell_type": "markdown",
   "metadata": {},
   "source": [
    "## Visualize the change in rate compared to letter grade "
   ]
  },
  {
   "cell_type": "code",
   "execution_count": 27,
   "metadata": {},
   "outputs": [
    {
     "data": {
      "text/html": [
       "<div>\n",
       "<style scoped>\n",
       "    .dataframe tbody tr th:only-of-type {\n",
       "        vertical-align: middle;\n",
       "    }\n",
       "\n",
       "    .dataframe tbody tr th {\n",
       "        vertical-align: top;\n",
       "    }\n",
       "\n",
       "    .dataframe thead th {\n",
       "        text-align: right;\n",
       "    }\n",
       "</style>\n",
       "<table border=\"1\" class=\"dataframe\">\n",
       "  <thead>\n",
       "    <tr style=\"text-align: right;\">\n",
       "      <th></th>\n",
       "      <th>Corp Id</th>\n",
       "      <th>CORPORATION NAME</th>\n",
       "      <th>Cohort N</th>\n",
       "      <th>Grad N</th>\n",
       "      <th>State Grad Rate</th>\n",
       "      <th>Non-Waiver Grad N</th>\n",
       "      <th>State Non-Waiver Grad Rate</th>\n",
       "    </tr>\n",
       "  </thead>\n",
       "  <tbody>\n",
       "    <tr>\n",
       "      <th>0</th>\n",
       "      <td>15</td>\n",
       "      <td>Adams Central Community Schools</td>\n",
       "      <td>95</td>\n",
       "      <td>90</td>\n",
       "      <td>94.70%</td>\n",
       "      <td>87</td>\n",
       "      <td>91.60%</td>\n",
       "    </tr>\n",
       "    <tr>\n",
       "      <th>1</th>\n",
       "      <td>5265</td>\n",
       "      <td>Alexandria Community School Corporation</td>\n",
       "      <td>112</td>\n",
       "      <td>98</td>\n",
       "      <td>87.50%</td>\n",
       "      <td>97</td>\n",
       "      <td>86.60%</td>\n",
       "    </tr>\n",
       "    <tr>\n",
       "      <th>2</th>\n",
       "      <td>5275</td>\n",
       "      <td>Anderson Community School Corporation</td>\n",
       "      <td>394</td>\n",
       "      <td>353</td>\n",
       "      <td>89.60%</td>\n",
       "      <td>277</td>\n",
       "      <td>70.30%</td>\n",
       "    </tr>\n",
       "    <tr>\n",
       "      <th>3</th>\n",
       "      <td>5470</td>\n",
       "      <td>Argos Community Schools</td>\n",
       "      <td>46</td>\n",
       "      <td>34</td>\n",
       "      <td>73.90%</td>\n",
       "      <td>34</td>\n",
       "      <td>73.90%</td>\n",
       "    </tr>\n",
       "    <tr>\n",
       "      <th>4</th>\n",
       "      <td>2435</td>\n",
       "      <td>Attica Consolidated School Corporation</td>\n",
       "      <td>68</td>\n",
       "      <td>67</td>\n",
       "      <td>98.50%</td>\n",
       "      <td>64</td>\n",
       "      <td>94.10%</td>\n",
       "    </tr>\n",
       "  </tbody>\n",
       "</table>\n",
       "</div>"
      ],
      "text/plain": [
       "   Corp Id                         CORPORATION NAME  Cohort N  Grad N  \\\n",
       "0       15          Adams Central Community Schools        95      90   \n",
       "1     5265  Alexandria Community School Corporation       112      98   \n",
       "2     5275    Anderson Community School Corporation       394     353   \n",
       "3     5470                  Argos Community Schools        46      34   \n",
       "4     2435   Attica Consolidated School Corporation        68      67   \n",
       "\n",
       "  State Grad Rate  Non-Waiver Grad N State Non-Waiver Grad Rate  \n",
       "0          94.70%                 87                     91.60%  \n",
       "1          87.50%                 97                     86.60%  \n",
       "2          89.60%                277                     70.30%  \n",
       "3          73.90%                 34                     73.90%  \n",
       "4          98.50%                 64                     94.10%  "
      ]
     },
     "execution_count": 27,
     "metadata": {},
     "output_type": "execute_result"
    }
   ],
   "source": [
    "# Read in school grade files for each year\n",
    "gradrate2015 = pd.read_csv('Resources/2015_grad_rates_revised.csv')\n",
    "gradrate2016 = pd.read_csv('Resources/2016_grad_rates_revised.csv')\n",
    "gradrate2017 = pd.read_csv('Resources/2017_grad_rates_revised.csv')\n",
    "gradrate2018 = pd.read_csv('Resources/2018_grad_rates_revised.csv')\n",
    "gradrate2019 = pd.read_csv('Resources/2019_grad_rates_revised.csv')\n",
    "gradrate2015.head()"
   ]
  },
  {
   "cell_type": "code",
   "execution_count": 28,
   "metadata": {},
   "outputs": [
    {
     "data": {
      "text/html": [
       "<div>\n",
       "<style scoped>\n",
       "    .dataframe tbody tr th:only-of-type {\n",
       "        vertical-align: middle;\n",
       "    }\n",
       "\n",
       "    .dataframe tbody tr th {\n",
       "        vertical-align: top;\n",
       "    }\n",
       "\n",
       "    .dataframe thead th {\n",
       "        text-align: right;\n",
       "    }\n",
       "</style>\n",
       "<table border=\"1\" class=\"dataframe\">\n",
       "  <thead>\n",
       "    <tr style=\"text-align: right;\">\n",
       "      <th></th>\n",
       "      <th>Corp ID</th>\n",
       "      <th>CORPORATION NAME</th>\n",
       "      <th>Corp Grade 2015</th>\n",
       "      <th>Corp Id</th>\n",
       "      <th>Cohort N</th>\n",
       "      <th>Grad N</th>\n",
       "      <th>State Grad Rate</th>\n",
       "      <th>Non-Waiver Grad N</th>\n",
       "      <th>State Non-Waiver Grad Rate</th>\n",
       "      <th>Percent Change in Grad Rate</th>\n",
       "    </tr>\n",
       "  </thead>\n",
       "  <tbody>\n",
       "    <tr>\n",
       "      <th>0</th>\n",
       "      <td>15</td>\n",
       "      <td>Adams Central Community Schools</td>\n",
       "      <td>C</td>\n",
       "      <td>15</td>\n",
       "      <td>95</td>\n",
       "      <td>90</td>\n",
       "      <td>94.70%</td>\n",
       "      <td>87</td>\n",
       "      <td>91.60%</td>\n",
       "      <td>3.333333</td>\n",
       "    </tr>\n",
       "    <tr>\n",
       "      <th>1</th>\n",
       "      <td>5265</td>\n",
       "      <td>Alexandria Community School Corporation</td>\n",
       "      <td>C</td>\n",
       "      <td>5265</td>\n",
       "      <td>112</td>\n",
       "      <td>98</td>\n",
       "      <td>87.50%</td>\n",
       "      <td>97</td>\n",
       "      <td>86.60%</td>\n",
       "      <td>1.020408</td>\n",
       "    </tr>\n",
       "    <tr>\n",
       "      <th>2</th>\n",
       "      <td>5275</td>\n",
       "      <td>Anderson Community School Corporation</td>\n",
       "      <td>D</td>\n",
       "      <td>5275</td>\n",
       "      <td>394</td>\n",
       "      <td>353</td>\n",
       "      <td>89.60%</td>\n",
       "      <td>277</td>\n",
       "      <td>70.30%</td>\n",
       "      <td>21.529745</td>\n",
       "    </tr>\n",
       "    <tr>\n",
       "      <th>3</th>\n",
       "      <td>5470</td>\n",
       "      <td>Argos Community Schools</td>\n",
       "      <td>B</td>\n",
       "      <td>5470</td>\n",
       "      <td>46</td>\n",
       "      <td>34</td>\n",
       "      <td>73.90%</td>\n",
       "      <td>34</td>\n",
       "      <td>73.90%</td>\n",
       "      <td>0.000000</td>\n",
       "    </tr>\n",
       "    <tr>\n",
       "      <th>4</th>\n",
       "      <td>2435</td>\n",
       "      <td>Attica Consolidated School Corporation</td>\n",
       "      <td>D</td>\n",
       "      <td>2435</td>\n",
       "      <td>68</td>\n",
       "      <td>67</td>\n",
       "      <td>98.50%</td>\n",
       "      <td>64</td>\n",
       "      <td>94.10%</td>\n",
       "      <td>4.477612</td>\n",
       "    </tr>\n",
       "  </tbody>\n",
       "</table>\n",
       "</div>"
      ],
      "text/plain": [
       "   Corp ID                         CORPORATION NAME Corp Grade 2015  Corp Id  \\\n",
       "0       15          Adams Central Community Schools               C       15   \n",
       "1     5265  Alexandria Community School Corporation               C     5265   \n",
       "2     5275    Anderson Community School Corporation               D     5275   \n",
       "3     5470                  Argos Community Schools               B     5470   \n",
       "4     2435   Attica Consolidated School Corporation               D     2435   \n",
       "\n",
       "   Cohort N  Grad N State Grad Rate  Non-Waiver Grad N  \\\n",
       "0        95      90          94.70%                 87   \n",
       "1       112      98          87.50%                 97   \n",
       "2       394     353          89.60%                277   \n",
       "3        46      34          73.90%                 34   \n",
       "4        68      67          98.50%                 64   \n",
       "\n",
       "  State Non-Waiver Grad Rate  Percent Change in Grad Rate  \n",
       "0                     91.60%                     3.333333  \n",
       "1                     86.60%                     1.020408  \n",
       "2                     70.30%                    21.529745  \n",
       "3                     73.90%                     0.000000  \n",
       "4                     94.10%                     4.477612  "
      ]
     },
     "execution_count": 28,
     "metadata": {},
     "output_type": "execute_result"
    }
   ],
   "source": [
    "# Merge School Grade with School Grad info:\n",
    "schoolgrade15 = schoolgrade2015.rename(columns={\"Corporate Name\":\"CORPORATION NAME\"})\n",
    "#schoolgrade15.head()\n",
    "\n",
    "grade_grad15 = pd.merge(schoolgrade15, gradrate2015, on=\"CORPORATION NAME\")\n",
    "#grade_grad15.head()\n",
    "\n",
    "# find change in grad rate =  grad n - non-waiver n / grad n\n",
    "grade_grad15['Percent Change in Grad Rate'] = (grade_grad15['Grad N'] - grade_grad15['Non-Waiver Grad N']) / grade_grad15['Grad N'] * 100\n",
    "grade_grad15.head()"
   ]
  },
  {
   "cell_type": "code",
   "execution_count": null,
   "metadata": {},
   "outputs": [],
   "source": []
  },
  {
   "cell_type": "code",
   "execution_count": 29,
   "metadata": {},
   "outputs": [
    {
     "data": {
      "text/html": [
       "<div>\n",
       "<style scoped>\n",
       "    .dataframe tbody tr th:only-of-type {\n",
       "        vertical-align: middle;\n",
       "    }\n",
       "\n",
       "    .dataframe tbody tr th {\n",
       "        vertical-align: top;\n",
       "    }\n",
       "\n",
       "    .dataframe thead th {\n",
       "        text-align: right;\n",
       "    }\n",
       "</style>\n",
       "<table border=\"1\" class=\"dataframe\">\n",
       "  <thead>\n",
       "    <tr style=\"text-align: right;\">\n",
       "      <th></th>\n",
       "      <th>Corp ID</th>\n",
       "      <th>CORPORATION NAME</th>\n",
       "      <th>Corp Grade 2015</th>\n",
       "      <th>Corp Id</th>\n",
       "      <th>Cohort N</th>\n",
       "      <th>Grad N</th>\n",
       "      <th>State Grad Rate</th>\n",
       "      <th>Non-Waiver Grad N</th>\n",
       "      <th>State Non-Waiver Grad Rate</th>\n",
       "      <th>Percent Change in Grad Rate</th>\n",
       "    </tr>\n",
       "  </thead>\n",
       "  <tbody>\n",
       "    <tr>\n",
       "      <th>0</th>\n",
       "      <td>15</td>\n",
       "      <td>Adams Central Community Schools</td>\n",
       "      <td>3</td>\n",
       "      <td>15</td>\n",
       "      <td>95</td>\n",
       "      <td>90</td>\n",
       "      <td>94.70%</td>\n",
       "      <td>87</td>\n",
       "      <td>91.60%</td>\n",
       "      <td>3.333333</td>\n",
       "    </tr>\n",
       "    <tr>\n",
       "      <th>1</th>\n",
       "      <td>5265</td>\n",
       "      <td>Alexandria Community School Corporation</td>\n",
       "      <td>3</td>\n",
       "      <td>5265</td>\n",
       "      <td>112</td>\n",
       "      <td>98</td>\n",
       "      <td>87.50%</td>\n",
       "      <td>97</td>\n",
       "      <td>86.60%</td>\n",
       "      <td>1.020408</td>\n",
       "    </tr>\n",
       "    <tr>\n",
       "      <th>2</th>\n",
       "      <td>5275</td>\n",
       "      <td>Anderson Community School Corporation</td>\n",
       "      <td>4</td>\n",
       "      <td>5275</td>\n",
       "      <td>394</td>\n",
       "      <td>353</td>\n",
       "      <td>89.60%</td>\n",
       "      <td>277</td>\n",
       "      <td>70.30%</td>\n",
       "      <td>21.529745</td>\n",
       "    </tr>\n",
       "    <tr>\n",
       "      <th>3</th>\n",
       "      <td>5470</td>\n",
       "      <td>Argos Community Schools</td>\n",
       "      <td>2</td>\n",
       "      <td>5470</td>\n",
       "      <td>46</td>\n",
       "      <td>34</td>\n",
       "      <td>73.90%</td>\n",
       "      <td>34</td>\n",
       "      <td>73.90%</td>\n",
       "      <td>0.000000</td>\n",
       "    </tr>\n",
       "    <tr>\n",
       "      <th>4</th>\n",
       "      <td>2435</td>\n",
       "      <td>Attica Consolidated School Corporation</td>\n",
       "      <td>4</td>\n",
       "      <td>2435</td>\n",
       "      <td>68</td>\n",
       "      <td>67</td>\n",
       "      <td>98.50%</td>\n",
       "      <td>64</td>\n",
       "      <td>94.10%</td>\n",
       "      <td>4.477612</td>\n",
       "    </tr>\n",
       "  </tbody>\n",
       "</table>\n",
       "</div>"
      ],
      "text/plain": [
       "   Corp ID                         CORPORATION NAME  Corp Grade 2015  Corp Id  \\\n",
       "0       15          Adams Central Community Schools                3       15   \n",
       "1     5265  Alexandria Community School Corporation                3     5265   \n",
       "2     5275    Anderson Community School Corporation                4     5275   \n",
       "3     5470                  Argos Community Schools                2     5470   \n",
       "4     2435   Attica Consolidated School Corporation                4     2435   \n",
       "\n",
       "   Cohort N  Grad N State Grad Rate  Non-Waiver Grad N  \\\n",
       "0        95      90          94.70%                 87   \n",
       "1       112      98          87.50%                 97   \n",
       "2       394     353          89.60%                277   \n",
       "3        46      34          73.90%                 34   \n",
       "4        68      67          98.50%                 64   \n",
       "\n",
       "  State Non-Waiver Grad Rate  Percent Change in Grad Rate  \n",
       "0                     91.60%                     3.333333  \n",
       "1                     86.60%                     1.020408  \n",
       "2                     70.30%                    21.529745  \n",
       "3                     73.90%                     0.000000  \n",
       "4                     94.10%                     4.477612  "
      ]
     },
     "execution_count": 29,
     "metadata": {},
     "output_type": "execute_result"
    }
   ],
   "source": [
    "# Assign integers to letter grades\n",
    "mapping = {'A': 1 , 'B': 2, 'C': 3, 'D': 4, 'F': 5}\n",
    "mapped2015 = grade_grad15.replace({'Corp Grade 2015': mapping})\n",
    "mapped2015.head()"
   ]
  },
  {
   "cell_type": "code",
   "execution_count": 30,
   "metadata": {},
   "outputs": [
    {
     "data": {
      "text/plain": [
       "Corp ID                          int64\n",
       "CORPORATION NAME                object\n",
       "Corp Grade 2015                  int64\n",
       "Corp Id                          int64\n",
       "Cohort N                         int64\n",
       "Grad N                           int64\n",
       "State Grad Rate                 object\n",
       "Non-Waiver Grad N                int64\n",
       "State Non-Waiver Grad Rate      object\n",
       "Percent Change in Grad Rate    float64\n",
       "dtype: object"
      ]
     },
     "execution_count": 30,
     "metadata": {},
     "output_type": "execute_result"
    }
   ],
   "source": [
    "mapped2015.dtypes"
   ]
  },
  {
   "cell_type": "code",
   "execution_count": 31,
   "metadata": {},
   "outputs": [
    {
     "data": {
      "text/plain": [
       "0      3.0\n",
       "1      3.0\n",
       "2      4.0\n",
       "3      2.0\n",
       "4      4.0\n",
       "      ... \n",
       "263    1.0\n",
       "264    3.0\n",
       "265    4.0\n",
       "266    2.0\n",
       "267    1.0\n",
       "Name: Corp Grade 2015, Length: 268, dtype: float64"
      ]
     },
     "execution_count": 31,
     "metadata": {},
     "output_type": "execute_result"
    }
   ],
   "source": [
    "mapped2015['Corp Grade 2015'].astype(float)"
   ]
  },
  {
   "cell_type": "code",
   "execution_count": 32,
   "metadata": {},
   "outputs": [
    {
     "data": {
      "text/html": [
       "<div>\n",
       "<style scoped>\n",
       "    .dataframe tbody tr th:only-of-type {\n",
       "        vertical-align: middle;\n",
       "    }\n",
       "\n",
       "    .dataframe tbody tr th {\n",
       "        vertical-align: top;\n",
       "    }\n",
       "\n",
       "    .dataframe thead th {\n",
       "        text-align: right;\n",
       "    }\n",
       "</style>\n",
       "<table border=\"1\" class=\"dataframe\">\n",
       "  <thead>\n",
       "    <tr style=\"text-align: right;\">\n",
       "      <th></th>\n",
       "      <th>Corp ID</th>\n",
       "      <th>CORPORATION NAME</th>\n",
       "      <th>Corp Grade 2016</th>\n",
       "      <th>Corp Id</th>\n",
       "      <th>Cohort N</th>\n",
       "      <th>Grad N</th>\n",
       "      <th>State Grad Rate</th>\n",
       "      <th>Non-Waiver Grad N</th>\n",
       "      <th>State Non-Waiver Grad Rate</th>\n",
       "      <th>Percent Change in Grad Rate</th>\n",
       "    </tr>\n",
       "  </thead>\n",
       "  <tbody>\n",
       "    <tr>\n",
       "      <th>0</th>\n",
       "      <td>15</td>\n",
       "      <td>Adams Central Community Schools</td>\n",
       "      <td>B</td>\n",
       "      <td>15</td>\n",
       "      <td>87</td>\n",
       "      <td>86</td>\n",
       "      <td>98.90%</td>\n",
       "      <td>85</td>\n",
       "      <td>97.70%</td>\n",
       "      <td>1.162791</td>\n",
       "    </tr>\n",
       "    <tr>\n",
       "      <th>1</th>\n",
       "      <td>5265</td>\n",
       "      <td>Alexandria Community School Corporation</td>\n",
       "      <td>C</td>\n",
       "      <td>5265</td>\n",
       "      <td>117</td>\n",
       "      <td>112</td>\n",
       "      <td>95.70%</td>\n",
       "      <td>108</td>\n",
       "      <td>92.30%</td>\n",
       "      <td>3.571429</td>\n",
       "    </tr>\n",
       "    <tr>\n",
       "      <th>2</th>\n",
       "      <td>5275</td>\n",
       "      <td>Anderson Community School Corporation</td>\n",
       "      <td>C</td>\n",
       "      <td>5275</td>\n",
       "      <td>387</td>\n",
       "      <td>367</td>\n",
       "      <td>94.80%</td>\n",
       "      <td>298</td>\n",
       "      <td>77.00%</td>\n",
       "      <td>18.801090</td>\n",
       "    </tr>\n",
       "    <tr>\n",
       "      <th>3</th>\n",
       "      <td>5470</td>\n",
       "      <td>Argos Community Schools</td>\n",
       "      <td>C</td>\n",
       "      <td>5470</td>\n",
       "      <td>48</td>\n",
       "      <td>38</td>\n",
       "      <td>79.20%</td>\n",
       "      <td>37</td>\n",
       "      <td>77.10%</td>\n",
       "      <td>2.631579</td>\n",
       "    </tr>\n",
       "    <tr>\n",
       "      <th>4</th>\n",
       "      <td>2435</td>\n",
       "      <td>Attica Consolidated School Corporation</td>\n",
       "      <td>C</td>\n",
       "      <td>2435</td>\n",
       "      <td>61</td>\n",
       "      <td>57</td>\n",
       "      <td>93.40%</td>\n",
       "      <td>53</td>\n",
       "      <td>86.90%</td>\n",
       "      <td>7.017544</td>\n",
       "    </tr>\n",
       "  </tbody>\n",
       "</table>\n",
       "</div>"
      ],
      "text/plain": [
       "   Corp ID                         CORPORATION NAME Corp Grade 2016  Corp Id  \\\n",
       "0       15          Adams Central Community Schools               B       15   \n",
       "1     5265  Alexandria Community School Corporation               C     5265   \n",
       "2     5275    Anderson Community School Corporation               C     5275   \n",
       "3     5470                  Argos Community Schools               C     5470   \n",
       "4     2435   Attica Consolidated School Corporation               C     2435   \n",
       "\n",
       "   Cohort N  Grad N State Grad Rate  Non-Waiver Grad N  \\\n",
       "0        87      86          98.90%                 85   \n",
       "1       117     112          95.70%                108   \n",
       "2       387     367          94.80%                298   \n",
       "3        48      38          79.20%                 37   \n",
       "4        61      57          93.40%                 53   \n",
       "\n",
       "  State Non-Waiver Grad Rate  Percent Change in Grad Rate  \n",
       "0                     97.70%                     1.162791  \n",
       "1                     92.30%                     3.571429  \n",
       "2                     77.00%                    18.801090  \n",
       "3                     77.10%                     2.631579  \n",
       "4                     86.90%                     7.017544  "
      ]
     },
     "execution_count": 32,
     "metadata": {},
     "output_type": "execute_result"
    }
   ],
   "source": [
    "# Merge School Grade with School Grad info:\n",
    "schoolgrade16 = schoolgrade2016.rename(columns={\"Corporate Name\":\"CORPORATION NAME\"})\n",
    "#schoolgrade16.head()\n",
    "grade_grad16 = pd.merge(schoolgrade16, gradrate2016, on=\"CORPORATION NAME\")\n",
    "#grade_grad15.head()\n",
    "\n",
    "# grad n - non-waiver n / grad n\n",
    "grade_grad16['Percent Change in Grad Rate'] = (grade_grad16['Grad N'] - grade_grad16['Non-Waiver Grad N']) / grade_grad16['Grad N'] * 100\n",
    "grade_grad16.head()"
   ]
  },
  {
   "cell_type": "code",
   "execution_count": 33,
   "metadata": {
    "scrolled": true
   },
   "outputs": [
    {
     "data": {
      "text/html": [
       "<div>\n",
       "<style scoped>\n",
       "    .dataframe tbody tr th:only-of-type {\n",
       "        vertical-align: middle;\n",
       "    }\n",
       "\n",
       "    .dataframe tbody tr th {\n",
       "        vertical-align: top;\n",
       "    }\n",
       "\n",
       "    .dataframe thead th {\n",
       "        text-align: right;\n",
       "    }\n",
       "</style>\n",
       "<table border=\"1\" class=\"dataframe\">\n",
       "  <thead>\n",
       "    <tr style=\"text-align: right;\">\n",
       "      <th></th>\n",
       "      <th>Corp ID</th>\n",
       "      <th>CORPORATION NAME</th>\n",
       "      <th>Corp Grade 2017</th>\n",
       "      <th>Corp Id</th>\n",
       "      <th>Cohort N</th>\n",
       "      <th>Grad N</th>\n",
       "      <th>State Grad Rate</th>\n",
       "      <th>Non-Waiver Grad N</th>\n",
       "      <th>State Non-Waiver Grad Rate</th>\n",
       "      <th>Percent Change in Grad Rate</th>\n",
       "    </tr>\n",
       "  </thead>\n",
       "  <tbody>\n",
       "    <tr>\n",
       "      <th>0</th>\n",
       "      <td>15.0</td>\n",
       "      <td>Adams Central Community Schools</td>\n",
       "      <td>B</td>\n",
       "      <td>15</td>\n",
       "      <td>95</td>\n",
       "      <td>93</td>\n",
       "      <td>97.89%</td>\n",
       "      <td>91</td>\n",
       "      <td>95.79%</td>\n",
       "      <td>2.150538</td>\n",
       "    </tr>\n",
       "    <tr>\n",
       "      <th>1</th>\n",
       "      <td>5265.0</td>\n",
       "      <td>Alexandria Community School Corporation</td>\n",
       "      <td>C</td>\n",
       "      <td>5265</td>\n",
       "      <td>124</td>\n",
       "      <td>117</td>\n",
       "      <td>94.35%</td>\n",
       "      <td>110</td>\n",
       "      <td>88.71%</td>\n",
       "      <td>5.982906</td>\n",
       "    </tr>\n",
       "    <tr>\n",
       "      <th>2</th>\n",
       "      <td>5275.0</td>\n",
       "      <td>Anderson Community School Corporation</td>\n",
       "      <td>C</td>\n",
       "      <td>5275</td>\n",
       "      <td>387</td>\n",
       "      <td>371</td>\n",
       "      <td>95.87%</td>\n",
       "      <td>288</td>\n",
       "      <td>74.42%</td>\n",
       "      <td>22.371968</td>\n",
       "    </tr>\n",
       "    <tr>\n",
       "      <th>3</th>\n",
       "      <td>5470.0</td>\n",
       "      <td>Argos Community Schools</td>\n",
       "      <td>B</td>\n",
       "      <td>5470</td>\n",
       "      <td>47</td>\n",
       "      <td>43</td>\n",
       "      <td>91.49%</td>\n",
       "      <td>41</td>\n",
       "      <td>87.23%</td>\n",
       "      <td>4.651163</td>\n",
       "    </tr>\n",
       "    <tr>\n",
       "      <th>4</th>\n",
       "      <td>2435.0</td>\n",
       "      <td>Attica Consolidated School Corporation</td>\n",
       "      <td>C</td>\n",
       "      <td>2435</td>\n",
       "      <td>52</td>\n",
       "      <td>47</td>\n",
       "      <td>90.38%</td>\n",
       "      <td>42</td>\n",
       "      <td>80.77%</td>\n",
       "      <td>10.638298</td>\n",
       "    </tr>\n",
       "  </tbody>\n",
       "</table>\n",
       "</div>"
      ],
      "text/plain": [
       "   Corp ID                         CORPORATION NAME Corp Grade 2017  Corp Id  \\\n",
       "0     15.0          Adams Central Community Schools               B       15   \n",
       "1   5265.0  Alexandria Community School Corporation               C     5265   \n",
       "2   5275.0    Anderson Community School Corporation               C     5275   \n",
       "3   5470.0                  Argos Community Schools               B     5470   \n",
       "4   2435.0   Attica Consolidated School Corporation               C     2435   \n",
       "\n",
       "   Cohort N  Grad N State Grad Rate  Non-Waiver Grad N  \\\n",
       "0        95      93          97.89%                 91   \n",
       "1       124     117          94.35%                110   \n",
       "2       387     371          95.87%                288   \n",
       "3        47      43          91.49%                 41   \n",
       "4        52      47          90.38%                 42   \n",
       "\n",
       "  State Non-Waiver Grad Rate  Percent Change in Grad Rate  \n",
       "0                     95.79%                     2.150538  \n",
       "1                     88.71%                     5.982906  \n",
       "2                     74.42%                    22.371968  \n",
       "3                     87.23%                     4.651163  \n",
       "4                     80.77%                    10.638298  "
      ]
     },
     "execution_count": 33,
     "metadata": {},
     "output_type": "execute_result"
    }
   ],
   "source": [
    "# Merge School Grade with School Grad info:\n",
    "schoolgrade17 = schoolgrade2017.rename(columns={\"Corporate Name\":\"CORPORATION NAME\"})\n",
    "grade_grad17 = pd.merge(schoolgrade17, gradrate2017, on=\"CORPORATION NAME\")\n",
    "\n",
    "# grad n - non-waiver n / grad n\n",
    "grade_grad17['Percent Change in Grad Rate'] = (grade_grad17['Grad N'] - grade_grad17['Non-Waiver Grad N']) / grade_grad17['Grad N'] * 100\n",
    "grade_grad17.head()"
   ]
  },
  {
   "cell_type": "code",
   "execution_count": null,
   "metadata": {},
   "outputs": [],
   "source": []
  },
  {
   "cell_type": "code",
   "execution_count": 34,
   "metadata": {},
   "outputs": [
    {
     "data": {
      "text/html": [
       "<div>\n",
       "<style scoped>\n",
       "    .dataframe tbody tr th:only-of-type {\n",
       "        vertical-align: middle;\n",
       "    }\n",
       "\n",
       "    .dataframe tbody tr th {\n",
       "        vertical-align: top;\n",
       "    }\n",
       "\n",
       "    .dataframe thead th {\n",
       "        text-align: right;\n",
       "    }\n",
       "</style>\n",
       "<table border=\"1\" class=\"dataframe\">\n",
       "  <thead>\n",
       "    <tr style=\"text-align: right;\">\n",
       "      <th></th>\n",
       "      <th>Corp ID</th>\n",
       "      <th>CORPORATION NAME</th>\n",
       "      <th>Corp Grade 2018</th>\n",
       "      <th>Corp Id</th>\n",
       "      <th>Cohort N</th>\n",
       "      <th>Grad N</th>\n",
       "      <th>State Grad Rate</th>\n",
       "      <th>Non-Waiver Grad N</th>\n",
       "      <th>State Non-Waiver Grad Rate</th>\n",
       "      <th>Percent Change in Grad Rate</th>\n",
       "    </tr>\n",
       "  </thead>\n",
       "  <tbody>\n",
       "    <tr>\n",
       "      <th>0</th>\n",
       "      <td>15.0</td>\n",
       "      <td>Adams Central Community Schools</td>\n",
       "      <td>B</td>\n",
       "      <td>15</td>\n",
       "      <td>99</td>\n",
       "      <td>98</td>\n",
       "      <td>98.99%</td>\n",
       "      <td>95</td>\n",
       "      <td>95.96%</td>\n",
       "      <td>3.061224</td>\n",
       "    </tr>\n",
       "    <tr>\n",
       "      <th>1</th>\n",
       "      <td>5265.0</td>\n",
       "      <td>Alexandria Community School Corporation</td>\n",
       "      <td>B</td>\n",
       "      <td>5265</td>\n",
       "      <td>94</td>\n",
       "      <td>90</td>\n",
       "      <td>95.74%</td>\n",
       "      <td>73</td>\n",
       "      <td>77.66%</td>\n",
       "      <td>18.888889</td>\n",
       "    </tr>\n",
       "    <tr>\n",
       "      <th>2</th>\n",
       "      <td>5275.0</td>\n",
       "      <td>Anderson Community School Corporation</td>\n",
       "      <td>C</td>\n",
       "      <td>5275</td>\n",
       "      <td>457</td>\n",
       "      <td>367</td>\n",
       "      <td>80.31%</td>\n",
       "      <td>327</td>\n",
       "      <td>71.55%</td>\n",
       "      <td>10.899183</td>\n",
       "    </tr>\n",
       "    <tr>\n",
       "      <th>3</th>\n",
       "      <td>5470.0</td>\n",
       "      <td>Argos Community Schools</td>\n",
       "      <td>B</td>\n",
       "      <td>5470</td>\n",
       "      <td>56</td>\n",
       "      <td>48</td>\n",
       "      <td>85.71%</td>\n",
       "      <td>43</td>\n",
       "      <td>76.79%</td>\n",
       "      <td>10.416667</td>\n",
       "    </tr>\n",
       "    <tr>\n",
       "      <th>4</th>\n",
       "      <td>2435.0</td>\n",
       "      <td>Attica Consolidated School Corporation</td>\n",
       "      <td>B</td>\n",
       "      <td>2435</td>\n",
       "      <td>50</td>\n",
       "      <td>49</td>\n",
       "      <td>98.00%</td>\n",
       "      <td>48</td>\n",
       "      <td>96.00%</td>\n",
       "      <td>2.040816</td>\n",
       "    </tr>\n",
       "  </tbody>\n",
       "</table>\n",
       "</div>"
      ],
      "text/plain": [
       "   Corp ID                         CORPORATION NAME Corp Grade 2018  Corp Id  \\\n",
       "0     15.0          Adams Central Community Schools               B       15   \n",
       "1   5265.0  Alexandria Community School Corporation               B     5265   \n",
       "2   5275.0    Anderson Community School Corporation               C     5275   \n",
       "3   5470.0                  Argos Community Schools               B     5470   \n",
       "4   2435.0   Attica Consolidated School Corporation               B     2435   \n",
       "\n",
       "   Cohort N  Grad N State Grad Rate  Non-Waiver Grad N  \\\n",
       "0        99      98          98.99%                 95   \n",
       "1        94      90          95.74%                 73   \n",
       "2       457     367          80.31%                327   \n",
       "3        56      48          85.71%                 43   \n",
       "4        50      49          98.00%                 48   \n",
       "\n",
       "  State Non-Waiver Grad Rate  Percent Change in Grad Rate  \n",
       "0                     95.96%                     3.061224  \n",
       "1                     77.66%                    18.888889  \n",
       "2                     71.55%                    10.899183  \n",
       "3                     76.79%                    10.416667  \n",
       "4                     96.00%                     2.040816  "
      ]
     },
     "execution_count": 34,
     "metadata": {},
     "output_type": "execute_result"
    }
   ],
   "source": [
    "# Merge School Grade with School Grad info:\n",
    "schoolgrade18 = schoolgrade2018.rename(columns={\"Corporate Name\":\"CORPORATION NAME\"})\n",
    "grade_grad18 = pd.merge(schoolgrade18, gradrate2018, on=\"CORPORATION NAME\")\n",
    "\n",
    "# grad n - non-waiver n / grad n\n",
    "grade_grad18['Percent Change in Grad Rate'] = (grade_grad18['Grad N'] - grade_grad18['Non-Waiver Grad N']) / grade_grad18['Grad N'] * 100\n",
    "grade_grad18.head()"
   ]
  },
  {
   "cell_type": "code",
   "execution_count": 35,
   "metadata": {},
   "outputs": [
    {
     "data": {
      "text/html": [
       "<div>\n",
       "<style scoped>\n",
       "    .dataframe tbody tr th:only-of-type {\n",
       "        vertical-align: middle;\n",
       "    }\n",
       "\n",
       "    .dataframe tbody tr th {\n",
       "        vertical-align: top;\n",
       "    }\n",
       "\n",
       "    .dataframe thead th {\n",
       "        text-align: right;\n",
       "    }\n",
       "</style>\n",
       "<table border=\"1\" class=\"dataframe\">\n",
       "  <thead>\n",
       "    <tr style=\"text-align: right;\">\n",
       "      <th></th>\n",
       "      <th>Corp ID</th>\n",
       "      <th>CORPORATION NAME</th>\n",
       "      <th>Corp Grade 2019</th>\n",
       "      <th>Corp Id</th>\n",
       "      <th>Cohort N</th>\n",
       "      <th>Grad N</th>\n",
       "      <th>State Grad Rate</th>\n",
       "      <th>Non-Waiver Grad N</th>\n",
       "      <th>State Non-Waiver Grad Rate</th>\n",
       "      <th>Percent Change in Grad Rate</th>\n",
       "    </tr>\n",
       "  </thead>\n",
       "  <tbody>\n",
       "    <tr>\n",
       "      <th>0</th>\n",
       "      <td>15.0</td>\n",
       "      <td>Adams Central Community Schools</td>\n",
       "      <td>B</td>\n",
       "      <td>15</td>\n",
       "      <td>99</td>\n",
       "      <td>98</td>\n",
       "      <td>98.99%</td>\n",
       "      <td>95</td>\n",
       "      <td>95.96%</td>\n",
       "      <td>3.061224</td>\n",
       "    </tr>\n",
       "    <tr>\n",
       "      <th>1</th>\n",
       "      <td>5265.0</td>\n",
       "      <td>Alexandria Community School Corporation</td>\n",
       "      <td>B</td>\n",
       "      <td>5265</td>\n",
       "      <td>94</td>\n",
       "      <td>90</td>\n",
       "      <td>95.74%</td>\n",
       "      <td>73</td>\n",
       "      <td>77.66%</td>\n",
       "      <td>18.888889</td>\n",
       "    </tr>\n",
       "    <tr>\n",
       "      <th>2</th>\n",
       "      <td>5275.0</td>\n",
       "      <td>Anderson Community School Corporation</td>\n",
       "      <td>C</td>\n",
       "      <td>5275</td>\n",
       "      <td>457</td>\n",
       "      <td>367</td>\n",
       "      <td>80.31%</td>\n",
       "      <td>327</td>\n",
       "      <td>71.55%</td>\n",
       "      <td>10.899183</td>\n",
       "    </tr>\n",
       "    <tr>\n",
       "      <th>3</th>\n",
       "      <td>5470.0</td>\n",
       "      <td>Argos Community Schools</td>\n",
       "      <td>B</td>\n",
       "      <td>5470</td>\n",
       "      <td>56</td>\n",
       "      <td>48</td>\n",
       "      <td>85.71%</td>\n",
       "      <td>43</td>\n",
       "      <td>76.79%</td>\n",
       "      <td>10.416667</td>\n",
       "    </tr>\n",
       "    <tr>\n",
       "      <th>4</th>\n",
       "      <td>2435.0</td>\n",
       "      <td>Attica Consolidated School Corporation</td>\n",
       "      <td>B</td>\n",
       "      <td>2435</td>\n",
       "      <td>50</td>\n",
       "      <td>49</td>\n",
       "      <td>98.00%</td>\n",
       "      <td>48</td>\n",
       "      <td>96.00%</td>\n",
       "      <td>2.040816</td>\n",
       "    </tr>\n",
       "  </tbody>\n",
       "</table>\n",
       "</div>"
      ],
      "text/plain": [
       "   Corp ID                         CORPORATION NAME Corp Grade 2019  Corp Id  \\\n",
       "0     15.0          Adams Central Community Schools               B       15   \n",
       "1   5265.0  Alexandria Community School Corporation               B     5265   \n",
       "2   5275.0    Anderson Community School Corporation               C     5275   \n",
       "3   5470.0                  Argos Community Schools               B     5470   \n",
       "4   2435.0   Attica Consolidated School Corporation               B     2435   \n",
       "\n",
       "   Cohort N  Grad N State Grad Rate  Non-Waiver Grad N  \\\n",
       "0        99      98          98.99%                 95   \n",
       "1        94      90          95.74%                 73   \n",
       "2       457     367          80.31%                327   \n",
       "3        56      48          85.71%                 43   \n",
       "4        50      49          98.00%                 48   \n",
       "\n",
       "  State Non-Waiver Grad Rate  Percent Change in Grad Rate  \n",
       "0                     95.96%                     3.061224  \n",
       "1                     77.66%                    18.888889  \n",
       "2                     71.55%                    10.899183  \n",
       "3                     76.79%                    10.416667  \n",
       "4                     96.00%                     2.040816  "
      ]
     },
     "execution_count": 35,
     "metadata": {},
     "output_type": "execute_result"
    }
   ],
   "source": [
    "# Merge School Grade with School Grad info:\n",
    "schoolgrade19 = schoolgrade2019.rename(columns={\"Corporate Name\":\"CORPORATION NAME\"})\n",
    "grade_grad19 = pd.merge(schoolgrade19, gradrate2019, on=\"CORPORATION NAME\")\n",
    "\n",
    "# grad n - non-waiver n / grad n\n",
    "grade_grad19['Percent Change in Grad Rate'] = (grade_grad19['Grad N'] - grade_grad19['Non-Waiver Grad N']) / grade_grad19['Grad N'] * 100\n",
    "grade_grad19.head()"
   ]
  },
  {
   "cell_type": "code",
   "execution_count": 36,
   "metadata": {
    "scrolled": true
   },
   "outputs": [
    {
     "data": {
      "image/png": "[encoded data removed]",
      "text/plain": [
       "<Figure size 432x288 with 1 Axes>"
      ]
     },
     "metadata": {
      "needs_background": "light"
     },
     "output_type": "display_data"
    }
   ],
   "source": [
    "gradegrad15 = grade_grad15.groupby(['Corp Grade 2015'])\n",
    "y_axis2015 = gradegrad15['Percent Change in Grad Rate'].mean()\n",
    "\n",
    "# Bar plot showing average change in grad rate per school letter grade  \n",
    "grades = ['A', 'B', 'C', 'D', 'F']\n",
    "x_axis = np.arange(0, len(grades))\n",
    "tick_locations = []\n",
    "for x in x_axis:\n",
    "    tick_locations.append(x)\n",
    "\n",
    "plt.title(\"Average Change in Grad Rate per School Grade A-F\")\n",
    "plt.suptitle(\"2015\")\n",
    "plt.xlabel(\"School Letter Grades\")\n",
    "plt.ylabel(\"Average Change in Grad Rate\")\n",
    "\n",
    "plt.bar(x_axis, y_axis2015, color='green', alpha=0.5, align=\"center\")\n",
    "plt.xticks(tick_locations, grades)\n",
    "\n",
    "# Set the y limits of the current chart\n",
    "plt.ylim(0, 60)\n",
    "\n",
    "plt.savefig(\"Output_Data/AveragChange15.png\") "
   ]
  },
  {
   "cell_type": "code",
   "execution_count": 37,
   "metadata": {
    "scrolled": true
   },
   "outputs": [
    {
     "data": {
      "image/png": "[encoded data removed]",
      "text/plain": [
       "<Figure size 432x288 with 1 Axes>"
      ]
     },
     "metadata": {
      "needs_background": "light"
     },
     "output_type": "display_data"
    }
   ],
   "source": [
    "# Bar plot showing average change in grad rate per school letter grade  \n",
    "gradegrad16 = grade_grad16.groupby(['Corp Grade 2016'])\n",
    "y_axis2016 = gradegrad16['Percent Change in Grad Rate'].mean()\n",
    "\n",
    "plt.title(\"Average Change in Grad Rate per School Grade A-F\")\n",
    "plt.suptitle(\"2016\")\n",
    "plt.xlabel(\"School Letter Grades\")\n",
    "plt.ylabel(\"Average Change in Grad Rate\")\n",
    "\n",
    "plt.bar(x_axis, y_axis2016, color='green', alpha=0.5, align=\"center\")\n",
    "plt.xticks(tick_locations, grades)\n",
    "\n",
    "# Set the y limits of the current chart\n",
    "plt.ylim(0, 60)\n",
    "\n",
    "plt.savefig(\"Output_Data/AveragChange16.png\") "
   ]
  },
  {
   "cell_type": "code",
   "execution_count": 38,
   "metadata": {},
   "outputs": [
    {
     "data": {
      "image/png": "[encoded data removed]",
      "text/plain": [
       "<Figure size 432x288 with 1 Axes>"
      ]
     },
     "metadata": {
      "needs_background": "light"
     },
     "output_type": "display_data"
    }
   ],
   "source": [
    "# Bar plot showing average change in grad rate per school letter grade  \n",
    "gradegrad17 = grade_grad17.groupby(['Corp Grade 2017']) \n",
    "y_axis2017 = gradegrad17['Percent Change in Grad Rate'].mean()\n",
    "\n",
    "plt.title(\"Average Change in Grad Rate per School Grade A-F\")\n",
    "plt.suptitle(\"2017\")\n",
    "plt.xlabel(\"School Letter Grades\")\n",
    "plt.ylabel(\"Average Change in Grad Rate\")\n",
    "\n",
    "plt.bar(x_axis, y_axis2017, color='green', alpha=0.5, align=\"center\")\n",
    "plt.xticks(tick_locations, grades)\n",
    "\n",
    "# Set the y limits of the current chart\n",
    "plt.ylim(0, 60)\n",
    "\n",
    "plt.savefig(\"Output_Data/AveragChange17.png\") "
   ]
  },
  {
   "cell_type": "code",
   "execution_count": 39,
   "metadata": {},
   "outputs": [
    {
     "data": {
      "image/png": "[encoded data removed]",
      "text/plain": [
       "<Figure size 432x288 with 1 Axes>"
      ]
     },
     "metadata": {
      "needs_background": "light"
     },
     "output_type": "display_data"
    }
   ],
   "source": [
    "# Bar plot showing average change in grad rate per school letter grade  \n",
    "gradegrad18 = grade_grad18.groupby(['Corp Grade 2018'])\n",
    "y_axis2018 = gradegrad18['Percent Change in Grad Rate'].mean()\n",
    "\n",
    "plt.title(\"Average Change in Grad Rate per School Grade A-F\")\n",
    "plt.suptitle(\"2018\")\n",
    "plt.xlabel(\"School Letter Grades\")\n",
    "plt.ylabel(\"Average Change in Grad Rate\")\n",
    "\n",
    "plt.bar(x_axis, y_axis2018, color='green', alpha=0.5, align=\"center\")\n",
    "plt.xticks(tick_locations, grades)\n",
    "\n",
    "# Set the y limits of the current chart\n",
    "plt.ylim(0, 60)\n",
    "\n",
    "plt.savefig(\"Output_Data/AveragChange18.png\") "
   ]
  },
  {
   "cell_type": "code",
   "execution_count": 40,
   "metadata": {
    "scrolled": false
   },
   "outputs": [
    {
     "data": {
      "image/png": "[encoded data removed]",
      "text/plain": [
       "<Figure size 432x288 with 1 Axes>"
      ]
     },
     "metadata": {
      "needs_background": "light"
     },
     "output_type": "display_data"
    }
   ],
   "source": [
    "#Find average of change in grad rate per letter grade\n",
    "gradegrad19 = grade_grad19.groupby(['Corp Grade 2019'])\n",
    "y_axis2019 = gradegrad19['Percent Change in Grad Rate'].mean()\n",
    "\n",
    "plt.title(\"Average Change in Grad Rate per School Grade A-F\")\n",
    "plt.suptitle(\"2019\")\n",
    "plt.xlabel(\"School Letter Grades\")\n",
    "plt.ylabel(\"Average Change in Grad Rate\")\n",
    "\n",
    "plt.bar(x_axis, y_axis2019, color='green', alpha=0.5, align=\"center\")\n",
    "plt.xticks(tick_locations, grades)\n",
    "\n",
    "# Set the y limits of the current chart\n",
    "plt.ylim(0, 60)\n",
    "\n",
    "plt.savefig(\"Output_Data/AveragChange19.png\") "
   ]
  },
  {
   "cell_type": "code",
   "execution_count": 41,
   "metadata": {},
   "outputs": [
    {
     "data": {
      "text/html": [
       "<div>\n",
       "<style scoped>\n",
       "    .dataframe tbody tr th:only-of-type {\n",
       "        vertical-align: middle;\n",
       "    }\n",
       "\n",
       "    .dataframe tbody tr th {\n",
       "        vertical-align: top;\n",
       "    }\n",
       "\n",
       "    .dataframe thead th {\n",
       "        text-align: right;\n",
       "    }\n",
       "</style>\n",
       "<table border=\"1\" class=\"dataframe\">\n",
       "  <thead>\n",
       "    <tr style=\"text-align: right;\">\n",
       "      <th></th>\n",
       "      <th>Corp ID</th>\n",
       "      <th>CORPORATION NAME</th>\n",
       "      <th>Corp Grade 2019</th>\n",
       "      <th>Corp Id</th>\n",
       "      <th>Cohort N</th>\n",
       "      <th>Grad N</th>\n",
       "      <th>State Grad Rate</th>\n",
       "      <th>Non-Waiver Grad N</th>\n",
       "      <th>State Non-Waiver Grad Rate</th>\n",
       "      <th>Percent Change in Grad Rate</th>\n",
       "    </tr>\n",
       "  </thead>\n",
       "  <tbody>\n",
       "    <tr>\n",
       "      <th>117</th>\n",
       "      <td>3640.0</td>\n",
       "      <td>Medora Community School Corporation</td>\n",
       "      <td>F</td>\n",
       "      <td>3640</td>\n",
       "      <td>20</td>\n",
       "      <td>16</td>\n",
       "      <td>80.00%</td>\n",
       "      <td>6</td>\n",
       "      <td>30.00%</td>\n",
       "      <td>62.500000</td>\n",
       "    </tr>\n",
       "    <tr>\n",
       "      <th>232</th>\n",
       "      <td>6795.0</td>\n",
       "      <td>Union School Corporation</td>\n",
       "      <td>F</td>\n",
       "      <td>6795</td>\n",
       "      <td>33</td>\n",
       "      <td>22</td>\n",
       "      <td>66.67%</td>\n",
       "      <td>12</td>\n",
       "      <td>36.36%</td>\n",
       "      <td>45.454545</td>\n",
       "    </tr>\n",
       "  </tbody>\n",
       "</table>\n",
       "</div>"
      ],
      "text/plain": [
       "     Corp ID                     CORPORATION NAME Corp Grade 2019  Corp Id  \\\n",
       "117   3640.0  Medora Community School Corporation               F     3640   \n",
       "232   6795.0             Union School Corporation               F     6795   \n",
       "\n",
       "     Cohort N  Grad N State Grad Rate  Non-Waiver Grad N  \\\n",
       "117        20      16          80.00%                  6   \n",
       "232        33      22          66.67%                 12   \n",
       "\n",
       "    State Non-Waiver Grad Rate  Percent Change in Grad Rate  \n",
       "117                     30.00%                    62.500000  \n",
       "232                     36.36%                    45.454545  "
      ]
     },
     "execution_count": 41,
     "metadata": {},
     "output_type": "execute_result"
    }
   ],
   "source": [
    "df19 = grade_grad19.loc[grade_grad19['Corp Grade 2019'] == 'F']\n",
    "df19.head()"
   ]
  },
  {
   "cell_type": "code",
   "execution_count": 42,
   "metadata": {},
   "outputs": [],
   "source": [
    "#group19_df = pd.DataFrame(data=y_axis2019)\n",
    "#group19df = group19_df.rename(columns={\"Corp Grade 2019\": \"School Grade\", \n",
    "#                            \"Percent Change in Grad Rate\": \"Percent Change 2019\"})\n",
    "\n",
    "# group18_df = pd.DataFrame(data=y_axis2018)\n",
    "# group18df = group18_df.rename(columns={\"Corp Grade 2018\": \"School Grade\", \n",
    "#                            \"Percent Change in Grad Rate\": \"Percent Change 2018\"})\n",
    "\n",
    "# group17_df = pd.DataFrame(data=y_axis2017)\n",
    "# group17df = group17_df.rename(columns={\"Corp Grade 2017\": \"School Grade\", \n",
    "#                            \"Percent Change in Grad Rate\": \"Percent Change 2017\"})\n",
    "\n",
    "# y_axis2016\n",
    "# group16df = group16_df.rename(columns={\"Corp Grade 2016\": \"School Grade\", \n",
    "#                            \"Percent Change in Grad Rate\": \"Percent Change 2016\"})\n",
    "\n",
    "\n"
   ]
  },
  {
   "cell_type": "code",
   "execution_count": 48,
   "metadata": {},
   "outputs": [],
   "source": [
    "#y_axis2016"
   ]
  },
  {
   "cell_type": "code",
   "execution_count": 49,
   "metadata": {},
   "outputs": [],
   "source": [
    "#y_axis2015"
   ]
  },
  {
   "cell_type": "code",
   "execution_count": null,
   "metadata": {},
   "outputs": [],
   "source": [
    "# Another attempt at a group bar chart\n",
    "# years defined above\n",
    "# A = []\n",
    "# B = []\n",
    "# C = []\n",
    "# D = []\n",
    "# F = []\n",
    "\n",
    "\n",
    "# x = np.arange(len(years))  # the label locations\n",
    "# width = 0.35  # the width of the bars\n",
    "\n",
    "# fig, ax = plt.subplots()\n",
    "# rects1 = ax.bar(x - width/2, A, width, label='A')\n",
    "# rects2 = ax.bar(x - width/2, B, width, label='B')\n",
    "# rects3 = ax.bar(x + width/2, C, width, label='C')\n",
    "# rects4 = ax.bar(x + width/2, D, width, label='D')\n",
    "# rects5 = ax.bar(x + width/2, F, width, label='F')\n",
    "\n",
    "# # Add some text for labels, title and custom x-axis tick labels, etc.\n",
    "# ax.set_ylabel('Average Change in Graduation Rate')\n",
    "# ax.set_title('Average Change in Graduation Rate per School Grade')\n",
    "# ax.set_xticks(x)\n",
    "# ax.set_xticklabels(years)\n",
    "# ax.legend()\n",
    "\n",
    "\n",
    "# def autolabel(rects):\n",
    "#    ### Attach a text label above each bar in *rects*, displaying its height.\"\"\"\n",
    "#     for rect in rects:\n",
    "#         height = rect.get_height()\n",
    "#         ax.annotate('{}'.format(height),\n",
    "#                     xy=(rect.get_x() + rect.get_width() / 2, height),\n",
    "#                     xytext=(0, 3),  # 3 points vertical offset\n",
    "#                     textcoords=\"offset points\",\n",
    "#                     ha='center', va='bottom')\n",
    "\n",
    "\n",
    "# autolabel(rects1)\n",
    "# autolabel(rects2)\n",
    "# autolabel(rects3)\n",
    "# autolabel(rects4)\n",
    "# autolabel(rects5)\n",
    "\n",
    "# fig.tight_layout()\n",
    "\n",
    "# plt.show()\n"
   ]
  },
  {
   "cell_type": "code",
   "execution_count": null,
   "metadata": {},
   "outputs": [],
   "source": []
  },
  {
   "cell_type": "markdown",
   "metadata": {},
   "source": [
    "## Does the change in grad rate correlate with letter grade?"
   ]
  },
  {
   "cell_type": "code",
   "execution_count": 50,
   "metadata": {},
   "outputs": [
    {
     "data": {
      "text/html": [
       "<div>\n",
       "<style scoped>\n",
       "    .dataframe tbody tr th:only-of-type {\n",
       "        vertical-align: middle;\n",
       "    }\n",
       "\n",
       "    .dataframe tbody tr th {\n",
       "        vertical-align: top;\n",
       "    }\n",
       "\n",
       "    .dataframe thead th {\n",
       "        text-align: right;\n",
       "    }\n",
       "</style>\n",
       "<table border=\"1\" class=\"dataframe\">\n",
       "  <thead>\n",
       "    <tr style=\"text-align: right;\">\n",
       "      <th></th>\n",
       "      <th>Corp ID</th>\n",
       "      <th>CORPORATION NAME</th>\n",
       "      <th>Corp Grade 2015</th>\n",
       "      <th>Corp Id</th>\n",
       "      <th>Cohort N</th>\n",
       "      <th>Grad N</th>\n",
       "      <th>State Grad Rate</th>\n",
       "      <th>Non-Waiver Grad N</th>\n",
       "      <th>State Non-Waiver Grad Rate</th>\n",
       "      <th>Percent Change in Grad Rate</th>\n",
       "    </tr>\n",
       "  </thead>\n",
       "  <tbody>\n",
       "    <tr>\n",
       "      <th>0</th>\n",
       "      <td>15</td>\n",
       "      <td>Adams Central Community Schools</td>\n",
       "      <td>C</td>\n",
       "      <td>15</td>\n",
       "      <td>95</td>\n",
       "      <td>90</td>\n",
       "      <td>94.70%</td>\n",
       "      <td>87</td>\n",
       "      <td>91.60%</td>\n",
       "      <td>3.333333</td>\n",
       "    </tr>\n",
       "    <tr>\n",
       "      <th>1</th>\n",
       "      <td>5265</td>\n",
       "      <td>Alexandria Community School Corporation</td>\n",
       "      <td>C</td>\n",
       "      <td>5265</td>\n",
       "      <td>112</td>\n",
       "      <td>98</td>\n",
       "      <td>87.50%</td>\n",
       "      <td>97</td>\n",
       "      <td>86.60%</td>\n",
       "      <td>1.020408</td>\n",
       "    </tr>\n",
       "    <tr>\n",
       "      <th>2</th>\n",
       "      <td>5275</td>\n",
       "      <td>Anderson Community School Corporation</td>\n",
       "      <td>D</td>\n",
       "      <td>5275</td>\n",
       "      <td>394</td>\n",
       "      <td>353</td>\n",
       "      <td>89.60%</td>\n",
       "      <td>277</td>\n",
       "      <td>70.30%</td>\n",
       "      <td>21.529745</td>\n",
       "    </tr>\n",
       "    <tr>\n",
       "      <th>3</th>\n",
       "      <td>5470</td>\n",
       "      <td>Argos Community Schools</td>\n",
       "      <td>B</td>\n",
       "      <td>5470</td>\n",
       "      <td>46</td>\n",
       "      <td>34</td>\n",
       "      <td>73.90%</td>\n",
       "      <td>34</td>\n",
       "      <td>73.90%</td>\n",
       "      <td>0.000000</td>\n",
       "    </tr>\n",
       "    <tr>\n",
       "      <th>4</th>\n",
       "      <td>2435</td>\n",
       "      <td>Attica Consolidated School Corporation</td>\n",
       "      <td>D</td>\n",
       "      <td>2435</td>\n",
       "      <td>68</td>\n",
       "      <td>67</td>\n",
       "      <td>98.50%</td>\n",
       "      <td>64</td>\n",
       "      <td>94.10%</td>\n",
       "      <td>4.477612</td>\n",
       "    </tr>\n",
       "  </tbody>\n",
       "</table>\n",
       "</div>"
      ],
      "text/plain": [
       "   Corp ID                         CORPORATION NAME Corp Grade 2015  Corp Id  \\\n",
       "0       15          Adams Central Community Schools               C       15   \n",
       "1     5265  Alexandria Community School Corporation               C     5265   \n",
       "2     5275    Anderson Community School Corporation               D     5275   \n",
       "3     5470                  Argos Community Schools               B     5470   \n",
       "4     2435   Attica Consolidated School Corporation               D     2435   \n",
       "\n",
       "   Cohort N  Grad N State Grad Rate  Non-Waiver Grad N  \\\n",
       "0        95      90          94.70%                 87   \n",
       "1       112      98          87.50%                 97   \n",
       "2       394     353          89.60%                277   \n",
       "3        46      34          73.90%                 34   \n",
       "4        68      67          98.50%                 64   \n",
       "\n",
       "  State Non-Waiver Grad Rate  Percent Change in Grad Rate  \n",
       "0                     91.60%                     3.333333  \n",
       "1                     86.60%                     1.020408  \n",
       "2                     70.30%                    21.529745  \n",
       "3                     73.90%                     0.000000  \n",
       "4                     94.10%                     4.477612  "
      ]
     },
     "execution_count": 50,
     "metadata": {},
     "output_type": "execute_result"
    }
   ],
   "source": [
    "grade_grad15.head()"
   ]
  },
  {
   "cell_type": "code",
   "execution_count": 51,
   "metadata": {},
   "outputs": [
    {
     "data": {
      "image/png": "[encoded data removed]",
      "text/plain": [
       "<Figure size 432x288 with 1 Axes>"
      ]
     },
     "metadata": {
      "needs_background": "light"
     },
     "output_type": "display_data"
    }
   ],
   "source": [
    "# For the first example, determine which pairs of factors are correlated. \n",
    "plt.scatter(grade_grad15.iloc[:,2],grade_grad15.iloc[:,9])\n",
    "plt.xlabel('School Grade')\n",
    "plt.ylabel('Percent Change in Grad Rate')\n",
    "plt.show()"
   ]
  },
  {
   "cell_type": "code",
   "execution_count": 52,
   "metadata": {},
   "outputs": [],
   "source": [
    "# Extract individual groups\n",
    "group_a = mapped2015.loc[mapped2015['Corp Grade 2015'] == 1][\"Percent Change in Grad Rate\"]\n",
    "group_b = mapped2015.loc[mapped2015['Corp Grade 2015'] == 2][\"Percent Change in Grad Rate\"]\n",
    "group_c = mapped2015.loc[mapped2015['Corp Grade 2015'] == 3][\"Percent Change in Grad Rate\"]\n",
    "group_d = mapped2015.loc[mapped2015['Corp Grade 2015'] == 4][\"Percent Change in Grad Rate\"]\n",
    "group_f = mapped2015.loc[mapped2015['Corp Grade 2015'] == 5][\"Percent Change in Grad Rate\"]"
   ]
  },
  {
   "cell_type": "code",
   "execution_count": null,
   "metadata": {},
   "outputs": [],
   "source": []
  },
  {
   "cell_type": "code",
   "execution_count": 53,
   "metadata": {},
   "outputs": [
    {
     "data": {
      "image/png": "[encoded data removed]",
      "text/plain": [
       "<Figure size 1440x720 with 1 Axes>"
      ]
     },
     "metadata": {
      "needs_background": "light"
     },
     "output_type": "display_data"
    }
   ],
   "source": [
    "mapped2015.boxplot(\"Percent Change in Grad Rate\", by=\"Corp Grade 2015\", figsize=(20, 10))\n",
    "plt.savefig(\"Output_Data/schoolgradeanova.png\") "
   ]
  },
  {
   "cell_type": "code",
   "execution_count": 54,
   "metadata": {},
   "outputs": [
    {
     "data": {
      "text/plain": [
       "F_onewayResult(statistic=19.80090518567931, pvalue=2.905239341452868e-14)"
      ]
     },
     "execution_count": 54,
     "metadata": {},
     "output_type": "execute_result"
    }
   ],
   "source": [
    "stats.f_oneway(group_a, group_b, group_c, group_d, group_f)"
   ]
  },
  {
   "cell_type": "code",
   "execution_count": null,
   "metadata": {},
   "outputs": [],
   "source": []
  },
  {
   "cell_type": "code",
   "execution_count": null,
   "metadata": {},
   "outputs": [],
   "source": []
  }
 ],
 "metadata": {
  "kernelspec": {
   "display_name": "Python [conda env:PythonData] *",
   "language": "python",
   "name": "conda-env-PythonData-py"
  },
  "language_info": {
   "codemirror_mode": {
    "name": "ipython",
    "version": 3
   },
   "file_extension": ".py",
   "mimetype": "text/x-python",
   "name": "python",
   "nbconvert_exporter": "python",
   "pygments_lexer": "ipython3",
   "version": "3.6.10"
  }
 },
 "nbformat": 4,
 "nbformat_minor": 4
}
